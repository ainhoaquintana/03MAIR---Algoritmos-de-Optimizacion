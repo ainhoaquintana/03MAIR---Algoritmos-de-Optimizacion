{
  "nbformat": 4,
  "nbformat_minor": 0,
  "metadata": {
    "colab": {
      "provenance": [],
      "include_colab_link": true
    },
    "kernelspec": {
      "name": "python3",
      "display_name": "Python 3"
    }
  },
  "cells": [
    {
      "cell_type": "markdown",
      "metadata": {
        "id": "view-in-github",
        "colab_type": "text"
      },
      "source": [
        "<a href=\"https://colab.research.google.com/github/ainhoaquintana/03MAIR---Algoritmos-de-Optimizacion/blob/main/TRABAJO_PRACTICO/Trabajo_Pr%C3%A1ctico_Algoritmos_AinhoaQuintana.ipynb\" target=\"_parent\"><img src=\"https://colab.research.google.com/assets/colab-badge.svg\" alt=\"Open In Colab\"/></a>"
      ]
    },
    {
      "cell_type": "markdown",
      "metadata": {
        "id": "hVbXYX-RfPWh"
      },
      "source": [
        "# Algoritmos de optimización - Trabajo Práctico<br>\n",
        "Nombre y Apellidos: Ainhoa Quintana Beraiz  <br>\n",
        "Url: https://github.com/ainhoaquintana/03MAIR---Algoritmos-de-Optimizacion---/tree/master/TrabajoPractico<br>\n",
        "Google Colab: https://colab.research.google.com/drive/1vqimkzsSsgu7_xSU-KEhkj3IIfu2xjIq?usp=sharing <br>\n",
        "Problema:\n",
        ">**1. Sesiones de doblaje<br>**\n",
        ">2. Organizar los horarios de partidos de La Liga<br>\n",
        ">3. Configuración de Tribunales\n",
        "\n",
        "**Descripción del problema:** Se precisa coordinar el doblaje de una película. Los actores del doblaje deben coincidir en las tomas en las que sus personajes aparecen juntos en las diferentes tomas. Los actores de doblaje cobran todos la misma cantidad por cada día que deben desplazarse hasta el estudio de grabación independientemente del número de tomas que se graben. No es posible grabar más de 6 tomas por día. El objetivo es planificar las sesiones por día de manera  que el gasto por los servicios de los actores de doblaje sea el menor posible.\n",
        "\n",
        "\n",
        "\n",
        "\n",
        "\n",
        "\n",
        "                                        "
      ]
    },
    {
      "cell_type": "markdown",
      "source": [
        "#Modelo\n",
        "- ¿Como represento el espacio de soluciones?  \n",
        "\n",
        "- ¿Cual es la función objetivo?  \n",
        "\n",
        "- ¿Como implemento las restricciones?"
      ],
      "metadata": {
        "id": "Sbo9IqQtpaHZ"
      }
    },
    {
      "cell_type": "code",
      "metadata": {
        "id": "AiskKkzZfy4e",
        "colab": {
          "base_uri": "https://localhost:8080/",
          "height": 52
        },
        "outputId": "ee6f3da5-4cf4-4914-e6be-c88b1e796217",
        "collapsed": true
      },
      "source": [
        "#Respuesta\n",
        "\n",
        "## ESPACIO DE SOLUCIONES ##\n",
        "'''\n",
        "Representaremos el espacio de soluciones como una matriz donde las filas\n",
        "serán los días de grabación y en cada fila habrá una lista con los números\n",
        "de las tomas que se grabarán ese día.\n",
        "'''\n",
        "ejemplo_solucion = [\n",
        "    [ 1,  2,  3,  4,  5,  6], # dia 1 se grabaran las tomas 1, 2, 3, 4, 5 y 6\n",
        "    [ 7,  8,  9, 10, 11, 12], # dia 2 se grabaran las tomas 7, 8, 9, 10, 11 y 12\n",
        "    [13, 14, 15, 16, 17, 18], # dia 3 se grabaran las tomas 13, 14, 15, 16, 17 y 18\n",
        "    [19, 20, 21, 22, 23, 24], # dia 4 se grabaran las tomas 19, 20, 21, 22, 23 y 24\n",
        "    [25, 26, 27, 28, 29, 30]  # dia 5 se grabaran las tomas 25, 26, 27, 28, 29 y 30\n",
        "]\n",
        "\n",
        "## FUNCIÓN OBJETIVO ##\n",
        "'''\n",
        "La función objetivo consiste en minimizar el coste total de la grabación. Como\n",
        "cada actor de doblaje cobra por día y no por toma, intentaremos que la cantidad\n",
        "de dias que vaya cada actor sea la menor posible. Por tanto, la función objetivo\n",
        "será la siguiente:\n",
        "'''"
      ],
      "execution_count": null,
      "outputs": [
        {
          "output_type": "execute_result",
          "data": {
            "text/plain": [
              "'\\nLa función objetivo consiste en minimizar el coste total de la grabación. Como\\ncada actor de doblaje cobra por día y no por toma, intentaremos que la cantidad\\nde dias que vaya cada actor sea la menor posible. Por tanto, la función objetivo\\nserá la siguiente:\\n'"
            ],
            "application/vnd.google.colaboratory.intrinsic+json": {
              "type": "string"
            }
          },
          "metadata": {},
          "execution_count": 37
        }
      ]
    },
    {
      "cell_type": "markdown",
      "source": [
        "$$ \\text{Coste Total} = min(C \\times \\sum_{i=1}^{A} D_i) $$\n"
      ],
      "metadata": {
        "id": "SWdQkLsXv8oL"
      }
    },
    {
      "cell_type": "code",
      "source": [
        "'''\n",
        "Donde\n",
        "C es lo que se le paga por día a cada actor\n",
        "A es la cantidad total de actores\n",
        "Di es el número de días que ha trabajado el actor i\n",
        "'''\n",
        "\n",
        "## IMPLEMENTACIÓN DE LAS RESTRICCIONES ##\n",
        "'''\n",
        "Las restricciones que se nos imponen son\n",
        "* Máximo 6 tomas por día\n",
        "* Los actores deben coincidir en las tomas en las que sus personajes aparecen\n",
        "juntos\n",
        "* Todos los actores cobran la misma cantidad por día que van al estudio\n",
        "\n",
        "Para cumplir el máximo de tomas por día, dentro de la función principal utilizaremos\n",
        "un bucle for de 0 a 5 para rellenar las tomas de cada día. Al llegar al máximo,\n",
        "automáticamente pasará a rellenarse el siguiente día.\n",
        "Además, para cumplir la restricción de que todos los actores cobren por días que\n",
        "van al estudio sin importar la cantidad de tomas que realicen por día, utilizaremos\n",
        "una lista auxiliar donde iremos guardando qué actores trabajan cada día y el coste\n",
        "de cada día será el número de actores que haya en dicha lista.\n",
        "'''"
      ],
      "metadata": {
        "colab": {
          "base_uri": "https://localhost:8080/",
          "height": 87
        },
        "collapsed": true,
        "id": "S9uiSZ7bxSVq",
        "outputId": "22ee44f1-07df-4c6d-8d21-664c21abceb2"
      },
      "execution_count": 4,
      "outputs": [
        {
          "output_type": "execute_result",
          "data": {
            "text/plain": [
              "'\\nLas restricciones que se nos imponen son\\n* Máximo 6 tomas por día\\n* Los actores deben coincidir en las tomas en las que sus personajes aparecen\\njuntos\\n* Todos los actores cobran la misma cantidad por día que van al estudio\\n\\nPara cumplir el máximo de tomas por día, dentro de la función principal utilizaremos\\nun bucle for de 0 a 5 para rellenar las tomas de cada día. Al llegar al máximo, \\nautomáticamente pasará a rellenarse el siguiente día.\\nAdemás, para cumplir la restricción de que todos los actores cobren por días que \\nvan al estudio sin importar la cantidad de tomas que realicen por día, utilizaremos\\nuna lista auxiliar donde iremos guardando qué actores trabajan cada día y el coste\\nde cada día será el número de actores que haya en dicha lista.\\n'"
            ],
            "application/vnd.google.colaboratory.intrinsic+json": {
              "type": "string"
            }
          },
          "metadata": {},
          "execution_count": 4
        }
      ]
    },
    {
      "cell_type": "markdown",
      "source": [
        "#Análisis\n",
        "- ¿Que complejidad tiene el problema?. Orden de complejidad y Contabilizar el espacio de soluciones"
      ],
      "metadata": {
        "id": "HZz52wOppp-U"
      }
    },
    {
      "cell_type": "code",
      "source": [
        "#Respuesta\n",
        "'''\n",
        "En el peor de los casos, en el que hubiera que explorar todo el espacio de\n",
        "soluciones, como el máximo son 6 tomas al día, el problema tendrá una\n",
        "complejidad de O(6^A), donde A es el número de actores.\n",
        "\n",
        "Si utilizamos Backtracking con Ramificación y Poda se reducirían los casos\n",
        "redundantes, ya que eliminaríamos las ramas con una cota no prometedora.\n",
        "Podría tener una complejidad aproximada de O(2^A), aun sigue siendo bastante grande.\n",
        "\n",
        "Si utilizasemos un algoritmo voraz, podría reducirse aun más la complejidad del\n",
        "algoritmo a O(A log A) dado que primero ordenaríamos las tomas, pero no nos\n",
        "garantiza que vaya a encontrar la solución óptima.\n",
        "\n",
        "'''"
      ],
      "metadata": {
        "id": "CZ-5BmpspttV",
        "colab": {
          "base_uri": "https://localhost:8080/",
          "height": 87
        },
        "outputId": "7648650f-2760-4242-ce34-b02549705abe",
        "collapsed": true
      },
      "execution_count": null,
      "outputs": [
        {
          "output_type": "execute_result",
          "data": {
            "text/plain": [
              "'\\nEn el peor de los casos, en el que hubiera que explorar todo el espacio de\\nsoluciones, como el máximo son 6 tomas al día, el problema tendrá una\\ncomplejidad de O(6^A), donde A es el número de actores.\\n\\nSi utilizamos Backtracking con Ramificación y Poda se reducirían los casos\\nredundantes, ya que eliminaríamos las ramas con una cota no prometedora.\\nPodría tener una complejidad aproximada de O(2^A), aun sigue siendo bastante grande.\\n\\nSi utilizasemos un algoritmo voraz, podría reducirse aun más la complejidad del\\nalgoritmo a O(A log A) dado que primero ordenaríamos las tomas, pero no nos\\ngarantiza que vaya a encontrar la solución óptima.\\n\\n'"
            ],
            "application/vnd.google.colaboratory.intrinsic+json": {
              "type": "string"
            }
          },
          "metadata": {},
          "execution_count": 39
        }
      ]
    },
    {
      "cell_type": "markdown",
      "source": [
        "#Diseño\n",
        "- ¿Que técnica utilizo? ¿Por qué?"
      ],
      "metadata": {
        "id": "ixEJUwH_pv7M"
      }
    },
    {
      "cell_type": "code",
      "source": [
        "# imports necesarios\n",
        "import numpy as np"
      ],
      "metadata": {
        "id": "inG428NYVtQL"
      },
      "execution_count": 2,
      "outputs": []
    },
    {
      "cell_type": "code",
      "source": [
        "# Antes de aplicar ninguna técnica guardaremos en un array la información que se\n",
        "# nos da acerca de qué tomas debe grabar cada actor, es decir, los datos\n",
        "# proporcionados en el excel. Donde cada columna corresponde a un actor y cada\n",
        "# fila es una toma.\n",
        "\n",
        "tomas_y_actores = np.array([\n",
        "    [1, 1, 1, 1, 1, 0, 0, 0, 0, 0],\n",
        "    [0, 0, 1, 1, 1, 0, 0, 0, 0, 0],\n",
        "    [0, 1, 0, 0, 1, 0, 1, 0, 0, 0],\n",
        "    [1, 1, 0, 0, 0, 0, 1, 1, 0, 0],\n",
        "    [0, 1, 0, 1, 0, 0, 0, 1, 0, 0],\n",
        "    [1, 1, 0, 1, 1, 0, 0, 0, 0, 0],\n",
        "    [1, 1, 0, 1, 1, 0, 0, 0, 0, 0],\n",
        "    [1, 1, 0, 0, 0, 1, 0, 0, 0, 0],\n",
        "    [1, 1, 0, 1, 0, 0, 0, 0, 0, 0],\n",
        "    [1, 1, 0, 0, 0, 1, 0, 0, 1, 0],\n",
        "    [1, 1, 1, 0, 1, 0, 0, 1, 0, 0],\n",
        "    [1, 1, 1, 1, 0, 1, 0, 0, 0, 0],\n",
        "    [1, 0, 0, 1, 1, 0, 0, 0, 0, 0],\n",
        "    [1, 0, 1, 0, 0, 1, 0, 0, 0, 0],\n",
        "    [1, 1, 0, 0, 0, 0, 1, 0, 0, 0],\n",
        "    [0, 0, 0, 1, 0, 0, 0, 0, 0, 1],\n",
        "    [1, 0, 1, 0, 0, 0, 0, 0, 0, 0],\n",
        "    [0, 0, 1, 0, 0, 1, 0, 0, 0, 0],\n",
        "    [1, 0, 1, 0, 0, 0, 0, 0, 0, 0],\n",
        "    [1, 0, 1, 1, 1, 0, 0, 0, 0, 0],\n",
        "    [0, 0, 0, 0, 0, 1, 0, 1, 0, 0],\n",
        "    [1, 1, 1, 1, 0, 0, 0, 0, 0, 0],\n",
        "    [1, 0, 1, 0, 0, 0, 0, 0, 0, 0],\n",
        "    [0, 0, 1, 0, 0, 1, 0, 0, 0, 0],\n",
        "    [1, 1, 0, 1, 0, 0, 0, 0, 0, 1],\n",
        "    [1, 0, 1, 0, 1, 0, 0, 0, 1, 0],\n",
        "    [0, 0, 0, 1, 1, 0, 0, 0, 0, 0],\n",
        "    [1, 0, 0, 1, 0, 0, 0, 0, 0, 0],\n",
        "    [1, 0, 0, 0, 1, 1, 0, 0, 0, 0],\n",
        "    [1, 0, 0, 1, 0, 0, 0, 0, 0, 0]\n",
        "])"
      ],
      "metadata": {
        "id": "GjqeYJTIlFQ_"
      },
      "execution_count": 3,
      "outputs": []
    },
    {
      "cell_type": "code",
      "source": [
        "# Primera técnica\n",
        "##  ALGORITMO VORAZ ##\n",
        "##  Vamos a plantear dos opciones de ordenación de las tomas para realizar\n",
        "##  el algortimo voraz. Vamos a utilizar esta técnica porque aunque no nos\n",
        "##  asegure encontrar el óptimo, sí que es mucho más rápida que otras y la\n",
        "##  solución que nos proporciona es bastante buena.\n",
        "\n",
        "##  Opción 1:\n",
        "##  Ordenaremos las tomas por cantidad de actores de mayor a menor, para\n",
        "##  realizar primero las tomas que más actores tengan.\n",
        "\n",
        "##  Opción 2:\n",
        "##  Ordenamos las tomas de forma descendente por cantidad de tomas en\n",
        "##  las que participen los actores. Es decir, las tomas en las que participe el\n",
        "##  primer actor primero, las del segundo después, etc."
      ],
      "metadata": {
        "id": "sLhcGQKOx0k0"
      },
      "execution_count": null,
      "outputs": []
    },
    {
      "cell_type": "code",
      "source": [
        "# Funciones para la ordenacion previa del algoritmo voraz\n",
        "\n",
        "def partition(valores, indices, ini, fin):\n",
        "    pivote = valores[fin] # Cogemos como pivote el ultimo elemento del array\n",
        "    i = ini\n",
        "    for j in range(ini, fin):\n",
        "        if valores[j] >= pivote:  # si el elemento es mas grande que el pivote los intercambiamos\n",
        "            valores[i], valores[j] = valores[j], valores[i]\n",
        "            indices[i], indices[j] = indices[j], indices[i]\n",
        "            i += 1\n",
        "    valores[i], valores[fin] = valores[fin], valores[i]\n",
        "    indices[i], indices[fin] = indices[fin], indices[i]\n",
        "    return i\n",
        "\n",
        "def quicksort(valores, indices, ini, fin):\n",
        "    if ini < fin:\n",
        "        partition_index = partition(valores, indices, ini, fin)\n",
        "        quicksort(valores, indices, ini, partition_index - 1)\n",
        "        quicksort(valores, indices, partition_index + 1, fin)\n",
        "\n",
        "#    Ordena las tomas de mayor a menor cantidad de actores\n",
        "def ordenar_tomas_por_cantidad_de_actores(tomas):\n",
        "    numero_tomas, _ = tomas.shape\n",
        "    actores_por_toma = np.sum(tomas, axis=1).tolist()\n",
        "    indices_tomas = list(range(numero_tomas))\n",
        "\n",
        "    quicksort(actores_por_toma, indices_tomas, 0, numero_tomas - 1)\n",
        "    return indices_tomas\n",
        "\n",
        "#    Ordena las tomas de mayor a menor cantidad de tomas realizadas por actor\n",
        "def ordenar_tomas_por_tomas_por_actor(tomas):\n",
        "    apariciones_actores = np.sum(tomas, axis=0)\n",
        "    actores_ordenados = np.argsort(-apariciones_actores)\n",
        "    prioridad_tomas = []\n",
        "    tomadas = set()\n",
        "\n",
        "    for actor in actores_ordenados:\n",
        "        for toma_idx in range(len(tomas)):\n",
        "            if tomas[toma_idx][actor] == 1 and toma_idx not in tomadas:\n",
        "                prioridad_tomas.append(toma_idx)\n",
        "                tomadas.add(toma_idx)\n",
        "\n",
        "    return prioridad_tomas"
      ],
      "metadata": {
        "id": "u04Z1oiDWcBd"
      },
      "execution_count": null,
      "outputs": []
    },
    {
      "cell_type": "code",
      "source": [
        "def algoritmo_voraz(tomas, funcion_ordenacion, max_tomas_por_dia=6):\n",
        "    indices_ordenados = funcion_ordenacion(tomas)\n",
        "    dias_grabacion = []\n",
        "    actores_por_dia = []  # Actores en cada día\n",
        "    coste_por_dia = []\n",
        "\n",
        "    for toma_idx in indices_ordenados:\n",
        "        actores_toma = set(np.where(tomas[toma_idx] == 1)[0])  # Actores en esta toma\n",
        "        asignado = False\n",
        "\n",
        "        for i in range(len(dias_grabacion)):\n",
        "            if len(dias_grabacion[i]) < max_tomas_por_dia: # si aun se pueden grabar mas tomas, la anadimos y contamos el coste\n",
        "                dias_grabacion[i].append(toma_idx + 1)\n",
        "                actores_por_dia[i].update(actores_toma)\n",
        "                coste_por_dia[i] = len(actores_por_dia[i])\n",
        "                asignado = True\n",
        "                break\n",
        "\n",
        "        if not asignado:\n",
        "            coste_por_dia.append(0)\n",
        "            dias_grabacion.append([toma_idx + 1])\n",
        "            actores_por_dia.append(actores_toma)\n",
        "\n",
        "    return dias_grabacion, sum(coste_por_dia)"
      ],
      "metadata": {
        "id": "ZdKPjB9gp2BA"
      },
      "execution_count": null,
      "outputs": []
    },
    {
      "cell_type": "code",
      "source": [
        "# Ejecutamos el algoritmo voraz\n",
        "\n",
        "## OPCION 1: Ordenamos las tomas por cantidad de actores, las que más actores\n",
        "##           tengan primero y en orden descendente.\n",
        "\n",
        "solucion_voraz, coste = algoritmo_voraz(tomas_y_actores, ordenar_tomas_por_cantidad_de_actores)\n",
        "print(\"OPCION 1: algoritmo voraz\")\n",
        "for i, dia in enumerate(solucion_voraz, 1):\n",
        "    print(f\"Día {i}: Tomas {dia}\")\n",
        "print(f\"Coste total: {coste}\")\n",
        "\n",
        "\n",
        "## OPCION 2: Ordenamos las tomas de forma descendente por cantidad de tomas en\n",
        "##           las que participen los actores.\n",
        "\n",
        "solucion_voraz, coste = algoritmo_voraz(tomas_y_actores, ordenar_tomas_por_tomas_por_actor)\n",
        "print(\"\\nOPCION 2: algoritmo voraz\")\n",
        "for i, dia in enumerate(solucion_voraz, 1):\n",
        "    print(f\"Día {i}: Tomas {dia}\")\n",
        "print(f\"Coste total: {coste}\")"
      ],
      "metadata": {
        "colab": {
          "base_uri": "https://localhost:8080/"
        },
        "id": "71Hkq0ia19_2",
        "outputId": "04c90d06-5fd7-42ac-a8e7-0255bbf243da"
      },
      "execution_count": null,
      "outputs": [
        {
          "output_type": "stream",
          "name": "stdout",
          "text": [
            "OPCION 1: algoritmo voraz\n",
            "Día 1: Tomas [1, 11, 12, 7, 10, 4]\n",
            "Día 2: Tomas [6, 20, 22, 25, 26, 2]\n",
            "Día 3: Tomas [13, 14, 15, 8, 9, 5]\n",
            "Día 4: Tomas [3, 29, 21, 17, 23, 24]\n",
            "Día 5: Tomas [18, 19, 27, 28, 16, 30]\n",
            "Coste total: 37\n",
            "\n",
            "OPCION 2: algoritmo voraz\n",
            "Día 1: Tomas [1, 4, 6, 7, 8, 9]\n",
            "Día 2: Tomas [10, 11, 12, 13, 14, 15]\n",
            "Día 3: Tomas [17, 19, 20, 22, 23, 25]\n",
            "Día 4: Tomas [26, 28, 29, 30, 2, 5]\n",
            "Día 5: Tomas [16, 27, 3, 18, 24, 21]\n",
            "Coste total: 39\n"
          ]
        }
      ]
    },
    {
      "cell_type": "code",
      "source": [
        "# Segunda técnica\n",
        "## Vamos a utilizar backtracking con poda porque el algoritmo voraz no nos asegura\n",
        "## encontrar la solución óptima aunque sea mucho más rápido. Backtracking es más\n",
        "## lento pero sí que encuentra la solución óptima\n",
        "\n",
        "def backtrack(dias_grabacion, actores_por_dia, coste_actual, index, tomas, mejor_solucion, mejor_coste, max_tomas_por_dia=6):\n",
        "    if index == len(tomas):\n",
        "        if coste_actual < mejor_coste[0]:\n",
        "            mejor_solucion.clear()\n",
        "            mejor_solucion.extend([list(d) for d in dias_grabacion])\n",
        "            mejor_coste[0] = coste_actual\n",
        "        return\n",
        "\n",
        "    toma_idx = index\n",
        "    actores_toma = set(np.where(tomas[toma_idx] == 1)[0])\n",
        "\n",
        "    for i in range(len(dias_grabacion)):\n",
        "        if len(dias_grabacion[i]) < max_tomas_por_dia:\n",
        "            actores_previos = actores_por_dia[i].copy()\n",
        "            dias_grabacion[i].append(toma_idx + 1)\n",
        "            actores_por_dia[i].update(actores_toma)\n",
        "            nuevo_coste = sum(len(actores) for actores in actores_por_dia)\n",
        "\n",
        "            if nuevo_coste < mejor_coste[0]: # poda, comprobamos si el nuevo coste es mejor, si no lo es no lo exploramos\n",
        "                backtrack(dias_grabacion, actores_por_dia, nuevo_coste, index + 1, tomas, mejor_solucion, mejor_coste, max_tomas_por_dia)\n",
        "\n",
        "            dias_grabacion[i].pop()\n",
        "            actores_por_dia[i] = actores_previos\n",
        "\n",
        "    dias_grabacion.append([toma_idx + 1])\n",
        "    actores_por_dia.append(actores_toma)\n",
        "    nuevo_coste = sum(len(actores) for actores in actores_por_dia)\n",
        "\n",
        "    if nuevo_coste < mejor_coste[0]: # poda, comprobamos si el nuevo coste es mejor, si no lo es no lo exploramos\n",
        "        backtrack(dias_grabacion, actores_por_dia, nuevo_coste, index + 1, tomas, mejor_solucion, mejor_coste, max_tomas_por_dia)\n",
        "\n",
        "    dias_grabacion.pop()\n",
        "    actores_por_dia.pop()\n",
        "\n",
        "def backtracking_poda(tomas):\n",
        "    mejor_solucion = []\n",
        "    mejor_coste = [float('inf')] # compararemos los costes para ir podando ramas y evitar analizar soluciones que no sean prometedoras\n",
        "    backtrack([], [], 0, 0, tomas, mejor_solucion, mejor_coste, 6)\n",
        "    return mejor_solucion, mejor_coste[0]\n",
        "\n",
        "\n",
        "solucion_backtracking, coste = backtracking_poda(tomas_y_actores)\n",
        "print(\"\\nOPCION 3: backtracking con poda\")\n",
        "for i, dia in enumerate(solucion_backtracking, 1):\n",
        "    print(f\"Día {i}: Tomas {dia}\")\n",
        "print(f\"Coste total: {coste}\")"
      ],
      "metadata": {
        "id": "rS2uygi4BDBg",
        "colab": {
          "base_uri": "https://localhost:8080/"
        },
        "outputId": "e6488570-13fd-42f6-e983-39e5ee91d9d1"
      },
      "execution_count": null,
      "outputs": [
        {
          "output_type": "stream",
          "name": "stdout",
          "text": [
            "\n",
            "OPCION 3: backtracking con poda\n",
            "Día 1: Tomas [1, 2, 3, 4, 11, 15]\n",
            "Día 2: Tomas [5, 8, 9, 16, 21, 25]\n",
            "Día 3: Tomas [6, 7, 13, 27, 28, 30]\n",
            "Día 4: Tomas [10, 12, 20, 22, 26, 29]\n",
            "Día 5: Tomas [14, 17, 18, 19, 23, 24]\n",
            "Coste total: 27\n"
          ]
        }
      ]
    },
    {
      "cell_type": "markdown",
      "source": [
        "En conclusión, tras comparar los dos algoritmos utilizados (algoritmo voraz y backtracking con poda) podemos ver que efectivamente la ejecución del algoritmo voraz es mucho más rápida que la del backtracking, pero la solución que nos proporciona no es la mejor, ya que con backtracking hemos llegado a un coste de 27 mientras que con el algoritmo voraz la mejor solución ha sido de 37."
      ],
      "metadata": {
        "id": "RcdyptzOJ17_"
      }
    }
  ]
}